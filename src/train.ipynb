{
 "cells": [
  {
   "cell_type": "code",
   "execution_count": null,
   "metadata": {},
   "outputs": [],
   "source": [
    "% load_ext autoreload\n",
    "% autoreload 2\n",
    "\n",
    "%matplotlib inline"
   ]
  },
  {
   "cell_type": "code",
   "execution_count": null,
   "metadata": {},
   "outputs": [],
   "source": [
    "from dataset import *\n",
    "from model import *\n",
    "from solver import *"
   ]
  },
  {
   "cell_type": "code",
   "execution_count": null,
   "metadata": {},
   "outputs": [],
   "source": [
    "data_train_path = os.path.join(\"..\", \"data\", \"train\")\n",
    "data_train = get_dataset(data_train_path)"
   ]
  },
  {
   "cell_type": "code",
   "execution_count": null,
   "metadata": {},
   "outputs": [],
   "source": [
    "import torch\n",
    "import torch.nn as nn\n",
    "\n",
    "model = BaselineModel(3, 3, 6, batch_first=True)\n",
    "model.load_state_dict(torch.load(\"w.h5\"))\n",
    "loss_fn = nn.MSELoss()\n",
    "optim = torch.optim.Adam(model.parameters(), lr=0.001)\n",
    "\n",
    "solver = Solver(model, optim, loss_fn, loss_fn)"
   ]
  },
  {
   "cell_type": "code",
   "execution_count": null,
   "metadata": {
    "scrolled": true
   },
   "outputs": [],
   "source": [
    "solver.fit(data_train, 1, batch_size=4, print_cnt=8)"
   ]
  },
  {
   "cell_type": "code",
   "execution_count": null,
   "metadata": {},
   "outputs": [],
   "source": [
    "torch.save(model.state_dict(), \"w.h5\")"
   ]
  },
  {
   "cell_type": "code",
   "execution_count": null,
   "metadata": {
    "scrolled": false
   },
   "outputs": [],
   "source": [
    "import matplotlib.pyplot as plt\n",
    "from random import randint\n",
    "\n",
    "def show_result(img_seqs):\n",
    "    for img in img_seqs:\n",
    "        plt.imshow(img.transpose(0,1).transpose(1,2))\n",
    "        plt.show()\n",
    "        \n",
    "\n",
    "def cmp_result(x, y_true, y_pred):\n",
    "    for imgs in zip(x, y_true, y_pred):\n",
    "        plt.figure(figsize=(15, 5))\n",
    "        n_imgs = len(imgs)\n",
    "        for i, img in enumerate(imgs):\n",
    "            img = img.transpose(0,1).transpose(1,2)\n",
    "            plt.subplot(1, n_imgs, i + 1)\n",
    "            plt.imshow(img)\n",
    "        plt.show()\n",
    "\n",
    "idx = randint(0, len(data_train))\n",
    "print(idx)\n",
    "x, y = data_train[idx]\n",
    "with torch.no_grad():\n",
    "    yy = model(x.unsqueeze(0).cuda())\n",
    "    yy = yy.squeeze(0)\n",
    "\n",
    "cmp_result(x, y, yy)"
   ]
  },
  {
   "cell_type": "code",
   "execution_count": null,
   "metadata": {},
   "outputs": [],
   "source": []
  }
 ],
 "metadata": {
  "kernelspec": {
   "display_name": "Python 3",
   "language": "python",
   "name": "python3"
  },
  "language_info": {
   "codemirror_mode": {
    "name": "ipython",
    "version": 3
   },
   "file_extension": ".py",
   "mimetype": "text/x-python",
   "name": "python",
   "nbconvert_exporter": "python",
   "pygments_lexer": "ipython3",
   "version": "3.6.5"
  }
 },
 "nbformat": 4,
 "nbformat_minor": 2
}
