{
 "cells": [
  {
   "cell_type": "code",
   "execution_count": null,
   "metadata": {},
   "outputs": [],
   "source": [
    "% load_ext autoreload\n",
    "% autoreload 2\n",
    "\n",
    "%matplotlib inline"
   ]
  },
  {
   "cell_type": "code",
   "execution_count": null,
   "metadata": {},
   "outputs": [],
   "source": [
    "from dataset import *\n",
    "from model import *\n",
    "from solver import *"
   ]
  },
  {
   "cell_type": "code",
   "execution_count": null,
   "metadata": {},
   "outputs": [],
   "source": [
    "#data_train = moving_mnist_dataset(os.path.join(\"..\", \"data\", \"mnist\", \"mnist_test_seq.npy\"))\n",
    "data_train = srad_dataset(os.path.join(\"..\", \"data\", \"train\"))"
   ]
  },
  {
   "cell_type": "code",
   "execution_count": null,
   "metadata": {},
   "outputs": [],
   "source": [
    "data_train[0][0].shape"
   ]
  },
  {
   "cell_type": "code",
   "execution_count": null,
   "metadata": {
    "scrolled": true
   },
   "outputs": [],
   "source": [
    "import torch\n",
    "import torch.nn as nn\n",
    "\n",
    "model = BaselineModel(1, 1, 6, batch_first=True)\n",
    "#model.load_state_dict(torch.load(\"w.h5\"))\n",
    "loss_fn = nn.MSELoss()\n",
    "optim = torch.optim.Adam(model.parameters(), lr=0.001)\n",
    "\n",
    "solver = Solver(model, optim, loss_fn, loss_fn)"
   ]
  },
  {
   "cell_type": "code",
   "execution_count": null,
   "metadata": {
    "scrolled": true
   },
   "outputs": [],
   "source": [
    "solver.fit(data_train, 1, batch_size=1, print_cnt=50)"
   ]
  },
  {
   "cell_type": "code",
   "execution_count": null,
   "metadata": {},
   "outputs": [],
   "source": [
    "torch.save(model.state_dict(), \"w.h5\")"
   ]
  },
  {
   "cell_type": "code",
   "execution_count": null,
   "metadata": {},
   "outputs": [],
   "source": [
    "import matplotlib.pyplot as plt\n",
    "from random import randint\n",
    "from torchvision.transforms import ToPILImage\n",
    "\n",
    "def show_result(img_seqs):\n",
    "    for img in img_seqs:\n",
    "        plt.imshow(img.transpose(0,1).transpose(1,2))\n",
    "        plt.show()\n",
    "        \n",
    "\n",
    "def cmp_result(x, y_true, y_pred):\n",
    "    to_img = ToPILImage()\n",
    "\n",
    "    for imgs in zip(x, y_true, y_pred):\n",
    "        plt.figure(figsize=(15, 5))\n",
    "        n_imgs = len(imgs)\n",
    "        for i, img in enumerate(imgs):\n",
    "            #img = img.transpose(0,1).transpose(1,2)\n",
    "            img = to_img(img.cpu())\n",
    "            plt.subplot(1, n_imgs, i + 1)\n",
    "            plt.imshow(img)\n",
    "        plt.show()\n",
    "\n",
    "idx = randint(0, len(data_train))\n",
    "print(idx)\n",
    "x, y = data_train[idx]\n",
    "with torch.no_grad():\n",
    "    yy = model(x.unsqueeze(0).cuda())\n",
    "    yy = yy.squeeze(0)\n",
    "\n",
    "cmp_result(x, y, yy)"
   ]
  },
  {
   "cell_type": "code",
   "execution_count": null,
   "metadata": {},
   "outputs": [],
   "source": []
  }
 ],
 "metadata": {
  "kernelspec": {
   "display_name": "Python 3",
   "language": "python",
   "name": "python3"
  },
  "language_info": {
   "codemirror_mode": {
    "name": "ipython",
    "version": 3
   },
   "file_extension": ".py",
   "mimetype": "text/x-python",
   "name": "python",
   "nbconvert_exporter": "python",
   "pygments_lexer": "ipython3",
   "version": "3.6.4"
  }
 },
 "nbformat": 4,
 "nbformat_minor": 2
}
