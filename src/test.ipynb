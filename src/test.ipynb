{
 "cells": [
  {
   "cell_type": "code",
   "execution_count": null,
   "metadata": {},
   "outputs": [],
   "source": [
    "% load_ext autoreload\n",
    "% autoreload 2\n",
    "\n",
    "%matplotlib inline"
   ]
  },
  {
   "cell_type": "code",
   "execution_count": null,
   "metadata": {},
   "outputs": [],
   "source": [
    "from dataset import *\n",
    "from model import *"
   ]
  },
  {
   "cell_type": "code",
   "execution_count": null,
   "metadata": {},
   "outputs": [],
   "source": [
    "data_test_path = os.path.join(\"..\", \"data\", \"test\", \"SRAD2018_Test_1\")\n",
    "data_test = get_dataset(data_test_path, is_train=False)"
   ]
  },
  {
   "cell_type": "code",
   "execution_count": null,
   "metadata": {},
   "outputs": [],
   "source": [
    "model = BaselineModel(3, 3, 6, batch_first=True)\n",
    "model.load_state_dict(torch.load(\"w.h5\"))"
   ]
  },
  {
   "cell_type": "code",
   "execution_count": null,
   "metadata": {},
   "outputs": [],
   "source": [
    "import queue\n",
    "import threading\n",
    "\n",
    "\n",
    "def save_seq_func(q):\n",
    "    def save_seq():\n",
    "        while True:\n",
    "            item = q.get()\n",
    "            if item is None:\n",
    "                break\n",
    "            seq_idx, bseq = item\n",
    "            for i, seq in enumerate(bseq):\n",
    "                seq_id = data_test.dataset.get_id(seq_idx + i)\n",
    "                path = os.path.join(result_path, seq_id)\n",
    "                if not os.path.exists(path):\n",
    "                    os.makedirs(path)\n",
    "                for j, img in enumerate(seq):\n",
    "                    filename = \"{}_f{:03d}.png\".format(seq_id, j + 1)\n",
    "                    img.save(os.path.join(path, filename))\n",
    "            q.task_done()\n",
    "            print(seq_idx, \"ok\")\n",
    "        print(\"done\")\n",
    "    return save_seq\n",
    "\n",
    "num_workers = 8\n",
    "q = queue.Queue(maxsize=128)\n",
    "threads = []\n",
    "for i in range(num_workers):\n",
    "    t = threading.Thread(target=save_seq_func(q))\n",
    "    t.start()\n",
    "    threads.append(t)"
   ]
  },
  {
   "cell_type": "code",
   "execution_count": null,
   "metadata": {
    "scrolled": true
   },
   "outputs": [],
   "source": [
    "import torch.utils.data as data\n",
    "import torchvision.transforms as transforms\n",
    "\n",
    "result_path = os.path.join(\"..\", \"data\", \"test\", \"result\")\n",
    "\n",
    "model = model.cuda()\n",
    "trans = transforms.Compose([\n",
    "    BatchApply(BatchApply(transforms.ToPILImage())),\n",
    "    BatchApply(BatchApply(transforms.Resize(501))),\n",
    "])\n",
    "\n",
    "loader_test = data.DataLoader(data_test, batch_size=4)\n",
    "i = 0\n",
    "n = 0\n",
    "print_cnt = 100\n",
    "for x in loader_test:\n",
    "    x = x.cuda()\n",
    "    \n",
    "    x = model(x)\n",
    "    x = x.cpu()\n",
    "    \n",
    "    x = trans(x)\n",
    "    \n",
    "    q.put((i, x))\n",
    "    print(i)\n",
    "    i += len(x)\n",
    "    n += len(x)\n",
    "    if n > 100:\n",
    "        n -= 100\n",
    "        print(i / len(data_test))"
   ]
  },
  {
   "cell_type": "code",
   "execution_count": null,
   "metadata": {},
   "outputs": [],
   "source": [
    "q.join()\n",
    "\n",
    "for i in range(num_workers):\n",
    "    q.put(None)\n",
    "for t in threads:\n",
    "    t.join()"
   ]
  },
  {
   "cell_type": "code",
   "execution_count": null,
   "metadata": {},
   "outputs": [],
   "source": []
  }
 ],
 "metadata": {
  "kernelspec": {
   "display_name": "Python 3",
   "language": "python",
   "name": "python3"
  },
  "language_info": {
   "codemirror_mode": {
    "name": "ipython",
    "version": 3
   },
   "file_extension": ".py",
   "mimetype": "text/x-python",
   "name": "python",
   "nbconvert_exporter": "python",
   "pygments_lexer": "ipython3",
   "version": "3.6.5"
  }
 },
 "nbformat": 4,
 "nbformat_minor": 2
}
